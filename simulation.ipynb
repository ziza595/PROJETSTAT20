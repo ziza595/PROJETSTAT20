{
  "nbformat": 4,
  "nbformat_minor": 0,
  "metadata": {
    "colab": {
      "name": "simulation.ipynb",
      "provenance": [],
      "authorship_tag": "ABX9TyMdddquDiur1gxTs+oO2Mrt",
      "include_colab_link": true
    },
    "kernelspec": {
      "name": "python3",
      "display_name": "Python 3"
    },
    "language_info": {
      "name": "python"
    }
  },
  "cells": [
    {
      "cell_type": "markdown",
      "metadata": {
        "id": "view-in-github",
        "colab_type": "text"
      },
      "source": [
        "<a href=\"https://colab.research.google.com/github/ziza595/PROJETSTAT20/blob/main/simulation.ipynb\" target=\"_parent\"><img src=\"https://colab.research.google.com/assets/colab-badge.svg\" alt=\"Open In Colab\"/></a>"
      ]
    },
    {
      "cell_type": "markdown",
      "metadata": {
        "id": "sv_2876Rihqg"
      },
      "source": [
        "## Simulation d'un échantillon de taille **10000** suivant une loi binomiale `B(30, 0.2)`. Et représentation de l’histogramme de l’échantillon obtenu."
      ]
    },
    {
      "cell_type": "code",
      "metadata": {
        "id": "l71zsvk_iI8e"
      },
      "source": [
        ""
      ],
      "execution_count": null,
      "outputs": []
    }
  ]
}