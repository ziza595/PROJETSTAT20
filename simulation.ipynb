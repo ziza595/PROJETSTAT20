{
  "nbformat": 4,
  "nbformat_minor": 0,
  "metadata": {
    "colab": {
      "name": "simulation.ipynb",
      "provenance": [],
      "authorship_tag": "ABX9TyMegN0mdOeRop6pRetQgiY/",
      "include_colab_link": true
    },
    "kernelspec": {
      "name": "python3",
      "display_name": "Python 3"
    },
    "language_info": {
      "name": "python"
    }
  },
  "cells": [
    {
      "cell_type": "markdown",
      "metadata": {
        "id": "view-in-github",
        "colab_type": "text"
      },
      "source": [
        "<a href=\"https://colab.research.google.com/github/ziza595/PROJETSTAT20/blob/main/simulation.ipynb\" target=\"_parent\"><img src=\"https://colab.research.google.com/assets/colab-badge.svg\" alt=\"Open In Colab\"/></a>"
      ]
    },
    {
      "cell_type": "markdown",
      "metadata": {
        "id": "sv_2876Rihqg"
      },
      "source": [
        "## 1. Simuler un échantillon de taille 10000 suivant une loi binomiale $\\mathcal{B}(30, 0.2)$. Tracer l’histogramme de l’échantillon obtenu."
      ]
    },
    {
      "cell_type": "markdown",
      "metadata": {
        "id": "js6c6YCAJzc2"
      },
      "source": [
        "### RAPPEL\n",
        "----------\n",
        "Une variable aléatoire réelle **X** suit la loi `Binomiale` si sa probabilité est exprimée de la sorte : $\\mathbb{P}(X = k) = \\binom{n}{k} p^k (1-p)^{n-k}$ avec $k = {0, 1, ..., n}$ et on note $X \\sim \\mathcal{B}(n, p)$.\n",
        "\n",
        "Ainsi, son `espérence` et sa `variance` sont données par :\n",
        "- $\\mathbb{E}[X] = np$\n",
        "- $\\mathbb{V}[X] = np(1 - p)$"
      ]
    },
    {
      "cell_type": "code",
      "metadata": {
        "id": "HPVQzP7DOEju"
      },
      "source": [
        "import math\n",
        "import numpy as np\n",
        "import matplotlib.pyplot as plt "
      ],
      "execution_count": 34,
      "outputs": []
    },
    {
      "cell_type": "code",
      "metadata": {
        "colab": {
          "base_uri": "https://localhost:8080/",
          "height": 281
        },
        "id": "Nw8LO23FT1Y8",
        "outputId": "9aa2b219-c12a-42d7-cf85-bb94901cb61b"
      },
      "source": [
        "binomiale = np.random.binomial(30, 0.3, 10000)\n",
        "\n",
        "plt.hist(binomiale, bins=30, range=(1,30), density=True)\n",
        "plt.title(\"Histogramme de la distribution de la loi binomiale\")\n",
        "plt.show()"
      ],
      "execution_count": 23,
      "outputs": [
        {
          "output_type": "display_data",
          "data": {
            "image/png": "[encoded data removed]",
            "text/plain": [
              "<Figure size 432x288 with 1 Axes>"
            ]
          },
          "metadata": {
            "tags": [],
            "needs_background": "light"
          }
        }
      ]
    },
    {
      "cell_type": "markdown",
      "metadata": {
        "id": "IHVgcY-4UXGn"
      },
      "source": [
        "## 2. Simuler un échantillon de taille 10000 suivant une loi normale $\\mathcal{N}(3, 0.4)$. Tracer la fonction de densité de l’échantillon obtenu. Choisir un intervalle contenant 0 pour domaine de représentation."
      ]
    },
    {
      "cell_type": "code",
      "metadata": {
        "id": "TEUc5hVteI6w"
      },
      "source": [
        "def densite_normale(x,mu,sigma):\n",
        "    return 1/(sigma * math.sqrt(2 * math.pi)) * math.exp(-0.5 * ((x-mu)/sigma)**2)"
      ],
      "execution_count": 35,
      "outputs": []
    },
    {
      "cell_type": "code",
      "metadata": {
        "colab": {
          "base_uri": "https://localhost:8080/",
          "height": 265
        },
        "id": "zRpFNwiCWmfY",
        "outputId": "eb4cd94a-967a-408f-f00d-c67112c2494e"
      },
      "source": [
        "normale=np.random.normal(3, 0.4,1000)\n",
        "\n",
        "plt.hist(normale,density=True, label='loi normale approchant la loi binomiale')\n",
        "lx=np.linspace(0,10,500)\n",
        "ly=[densite_normale(x, 3,math.sqrt(0.4)) for x in lx]\n",
        "plt.plot(lx,ly,'-', label = ' fonction de densité de la loi normale')\n",
        "plt.legend(loc='center right')\n",
        "plt.show()"
      ],
      "execution_count": 60,
      "outputs": [
        {
          "output_type": "display_data",
          "data": {
            "image/png": "[encoded data removed]",
            "text/plain": [
              "<Figure size 432x288 with 1 Axes>"
            ]
          },
          "metadata": {
            "tags": [],
            "needs_background": "light"
          }
        }
      ]
    },
    {
      "cell_type": "markdown",
      "metadata": {
        "id": "Fu8kuSYGaatB"
      },
      "source": [
        "## 3.  Simuler un échantillon de taille 10000 suivant une loi gamma $\\mathcal{\\gamma}(10, 0.5)$. Tracer la fonction de densité de l’échantillon obtenu. Choisir un intervalle contenant 0 pour domaine de représentation."
      ]
    },
    {
      "cell_type": "code",
      "metadata": {
        "id": "H4C8jOg7b7MU",
        "outputId": "9c29d9b4-44ae-400b-d930-4113dd67908b",
        "colab": {
          "base_uri": "https://localhost:8080/",
          "height": 265
        }
      },
      "source": [
        "gamma = np.random.gamma(10, 0.5, 1000)\n",
        "plt.hist(gamma, density=True)\n",
        "plt.show()"
      ],
      "execution_count": 17,
      "outputs": [
        {
          "output_type": "display_data",
          "data": {
            "image/png": "[encoded data removed]",
            "text/plain": [
              "<Figure size 432x288 with 1 Axes>"
            ]
          },
          "metadata": {
            "tags": [],
            "needs_background": "light"
          }
        }
      ]
    }
  ]
}